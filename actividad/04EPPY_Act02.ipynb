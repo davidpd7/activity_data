{
 "cells": [
  {
   "cell_type": "markdown",
   "id": "31ffaa68",
   "metadata": {},
   "source": [
    "<img src=\"../img/viu_logo.png\" width=\"200\">\n",
    "\n",
    "## 04EPPY - Actividad 2\n",
    "\n",
    "25% de la Nota Final\n",
    "\n",
    "### Fecha Entrega\n",
    "- Convocatoria 1 - 31/03/2022\n",
    "- Convocatoria 2 - 07/04/2022\n",
    "\n",
    "### Instrucciones:\n",
    "- Crear un notebook de Python3 que servirá como entrega de la actividad.\n",
    "- Separar bien los apartados propuestos con celdas Markdown.\n",
    "- Mantener una estructura limpia, comentando código y secuenciando los apartados con el código correspondiente que resuelva la actividad.\n",
    "- Como criterio de evaluación se tendrá en cuenta el resultado, la consecución del mismo, estilo, comentarios y adecuación.\n",
    "- No está permitido compartir los resultados ni el código en ninguno de los foros.\n",
    "\n",
    "### Entrega:\n",
    "- Un solo documento en formato notebook: .ipynb\n",
    "- Para hacer la entrega hay que subir el notebook al repositorio en la actividad de blackboard."
   ]
  },
  {
   "cell_type": "markdown",
   "id": "acc1f5f5",
   "metadata": {},
   "source": [
    "# Olympics"
   ]
  },
  {
   "attachments": {},
   "cell_type": "markdown",
   "id": "96ebe415",
   "metadata": {},
   "source": [
    "### A1 - Leer Datasets - 10%\n",
    "- En Kaggle existen dos datasets sobre las olimpiadas modernas\n",
    "  - Atletas y resultados de medallas, desde 1896 a 2016, https://www.kaggle.com/heesoo37/120-years-of-olympic-history-athletes-and-results\n",
    "  - Resultados de atletismo, desde 1896 a 2016, https://www.kaggle.com/jayrav13/olympic-track-field-results\n",
    "  \n",
    "- Obtener y leer los ficheros csv en dataframes de pandas"
   ]
  },
  {
   "cell_type": "code",
   "execution_count": null,
   "id": "502ee380",
   "metadata": {},
   "outputs": [],
   "source": [
    "import pandas  as pd\n",
    "import numpy as np\n",
    "from  os import path\n",
    "import seaborn as sns\n",
    "import matplotlib.pyplot as plt"
   ]
  },
  {
   "attachments": {},
   "cell_type": "markdown",
   "id": "673fdec4",
   "metadata": {},
   "source": [
    "## Loaded Olympic data"
   ]
  },
  {
   "cell_type": "code",
   "execution_count": null,
   "id": "e56e3160",
   "metadata": {},
   "outputs": [],
   "source": [
    "oly_location = path.join('res', 'olympic', 'results.csv')\n",
    "oly_data = pd.read_csv(oly_location, delimiter= ',', encoding='UTF-8', error_bad_lines=False)\n",
    "oly_train = pd.DataFrame(oly_data)\n",
    "oly_train"
   ]
  },
  {
   "cell_type": "code",
   "execution_count": null,
   "id": "bd2f7894",
   "metadata": {},
   "outputs": [],
   "source": [
    "ath_location = path.join('res', 'athletes', 'athlete_events.csv')\n",
    "data = pd.read_csv(ath_location, encoding='UTF-8')\n",
    "data_test = pd.DataFrame(data)\n",
    "data_test.head()\n",
    "data_test.sample(15)\n",
    "data.sort_values('Year').head()\n",
    "data.sort_values('Year').tail()"
   ]
  },
  {
   "cell_type": "markdown",
   "id": "6c87165f",
   "metadata": {},
   "source": [
    "### A2 - Análisis - 45%\n",
    "- Obtener un gráfico de barras con la evolución del número de deportes por año, eje X años, eje Y número de deportes\n",
    "![sports_per_year](res/sports_per_year.png)\n",
    "- Gráfico con la evolución de la participación femenina en las olimpiadas a lo largo de la historia, eje X años, eje Y número de atletas, para cada año una barra para cada sexo\n",
    "![sex](res/sex.png)\n",
    "- Gráfico con los 50 paises con más medallas en toda la historia, en cada barra el nombre completo del pais, longitud de cada barra, total de medallas obtenidas por pais\n",
    "![medallero](res/medallero.png)"
   ]
  },
  {
   "cell_type": "code",
   "execution_count": null,
   "id": "ce72582a",
   "metadata": {},
   "outputs": [],
   "source": [
    "from matplotlib import rcParams\n",
    "\n",
    "data = data_test['Sport'].groupby(data_test['Year']).size()\n",
    "data = data.reset_index()\n",
    "\n",
    "fig, axs = plt.subplots(figsize=(18, 10))\n",
    "ax = sns.barplot(y = data['Sport'], x = data['Year'],ax=axs)\n",
    "ax"
   ]
  },
  {
   "cell_type": "code",
   "execution_count": null,
   "metadata": {},
   "outputs": [],
   "source": [
    "fig, axs = plt.subplots(figsize=(18, 3))\n",
    "data_gender = data_test[data_test.Sex.isin(['M', 'F'])]\n",
    "\n",
    "ax = sns.countplot(x='Year', hue='Sex', data=data_gender, ax=axs, palette=['red','blue'])\n",
    "ax.set_xlabel('Año')\n",
    "ax.set_ylabel('Número de atletas')\n",
    "ax.set_title('Evolución de la participación femenina en las olimpiadas')\n",
    "ax"
   ]
  },
  {
   "cell_type": "code",
   "execution_count": null,
   "id": "2f6c92ba",
   "metadata": {},
   "outputs": [],
   "source": [
    "sns.barplot(x= 'Year', hue='Sex', y = 'Name', data=data_test)\n"
   ]
  },
  {
   "cell_type": "code",
   "execution_count": null,
   "id": "a8c2e613",
   "metadata": {},
   "outputs": [],
   "source": [
    "data_medal = data_test.groupby('Team')['Medal'].size().sort_values(ascending=False).head(50)\n",
    "fig, axs = plt.subplots(figsize=(20, 10))\n",
    "\n",
    "ax = sns.barplot(x = data_medal.values, y = data_medal.index , orient='h', ax = axs,palette='pastel')\n",
    "ax.bar_label(ax.containers[0])\n",
    "ax.set_xlabel('Total of medals')\n",
    "ax.set_ylabel('Country')\n",
    "ax.set_title('TOP 50 countries')\n",
    "ax\n"
   ]
  },
  {
   "cell_type": "markdown",
   "id": "7918d9b7",
   "metadata": {},
   "source": [
    "### A3 - Machine Learning - 45%\n",
    "\n",
    "- Crear un modelo capaz de predecir el tiempo que va a hacer un atleta en la prueba de los 100 metros lisos, en función de su edad, sexo, peso y altura.\n",
    "![model](res/model.png)"
   ]
  },
  {
   "cell_type": "markdown",
   "metadata": {},
   "source": []
  },
  {
   "cell_type": "code",
   "execution_count": null,
   "id": "0b4ec90a",
   "metadata": {},
   "outputs": [],
   "source": [
    "from sklearn.model_selection import train_test_split\n",
    "from sklearn import datasets\n",
    "\n",
    "file_location = path.join('res','athletes','athlete_events.csv')\n",
    "data = pd.read_csv(file_location)"
   ]
  },
  {
   "cell_type": "code",
   "execution_count": null,
   "id": "3483550c",
   "metadata": {},
   "outputs": [],
   "source": [
    "data.info()\n"
   ]
  },
  {
   "cell_type": "code",
   "execution_count": null,
   "id": "b6db12a6",
   "metadata": {},
   "outputs": [],
   "source": [
    "sns.pointplot(hue = 'Sex',y= 'Age', x = 'Medal', data = data, orient='v' )"
   ]
  },
  {
   "cell_type": "code",
   "execution_count": null,
   "id": "93717736",
   "metadata": {},
   "outputs": [],
   "source": [
    "sns.pointplot(hue='Sex', y = 'Weight', x = 'Medal', data =data)"
   ]
  },
  {
   "cell_type": "code",
   "execution_count": 116,
   "id": "2d1acfa9",
   "metadata": {},
   "outputs": [
    {
     "data": {
      "text/plain": [
       "<Axes: xlabel='Medal', ylabel='Height'>"
      ]
     },
     "execution_count": 116,
     "metadata": {},
     "output_type": "execute_result"
    },
    {
     "data": {
      "image/png": "[encoded data removed]",
      "text/plain": [
       "<Figure size 640x480 with 1 Axes>"
      ]
     },
     "metadata": {},
     "output_type": "display_data"
    }
   ],
   "source": [
    "sns.barplot(hue='Sex', y = 'Height', x = 'Medal', data =data)\n"
   ]
  },
  {
   "cell_type": "code",
   "execution_count": null,
   "id": "f2d0ccda",
   "metadata": {},
   "outputs": [],
   "source": [
    "data.hist(column='Age')\n",
    "\n"
   ]
  },
  {
   "cell_type": "code",
   "execution_count": null,
   "id": "48ead259",
   "metadata": {},
   "outputs": [],
   "source": [
    "data['Age'] = data['Age'].fillna(-0.5)\n",
    "sorted(data['Age'].unique())"
   ]
  },
  {
   "cell_type": "code",
   "execution_count": null,
   "id": "263b38b4",
   "metadata": {},
   "outputs": [],
   "source": [
    "def cat_age(data):\n",
    "    '''\n",
    "    Función que imputa el valor -0.5 a los NaN\n",
    "    Bines: -1, 0, 12, 18, 30, 60, 120\n",
    "    Input: pandas dataframe\n",
    "    Output: pandas dataframe\n",
    "    '''\n",
    "    data['Age'] = data['Age'].fillna(-0.5)\n",
    "    bins = (-1, 0, 12, 18, 30, 60, 100)\n",
    "    cat_names = ['Unknown', 'Alevin', 'Juvenil', 'Senior', 'Veterano', 'Anciano']\n",
    "    categorias = pd.cut(data['Age'], bins, labels=cat_names)\n",
    "    data['Age'] = categorias\n",
    "    return\n",
    "cat_age(data=data)\n"
   ]
  },
  {
   "cell_type": "code",
   "execution_count": 109,
   "id": "676baece",
   "metadata": {},
   "outputs": [
    {
     "data": {
      "text/html": [
       "<div>\n",
       "<style scoped>\n",
       "    .dataframe tbody tr th:only-of-type {\n",
       "        vertical-align: middle;\n",
       "    }\n",
       "\n",
       "    .dataframe tbody tr th {\n",
       "        vertical-align: top;\n",
       "    }\n",
       "\n",
       "    .dataframe thead th {\n",
       "        text-align: right;\n",
       "    }\n",
       "</style>\n",
       "<table border=\"1\" class=\"dataframe\">\n",
       "  <thead>\n",
       "    <tr style=\"text-align: right;\">\n",
       "      <th></th>\n",
       "      <th>ID</th>\n",
       "      <th>Name</th>\n",
       "      <th>Sex</th>\n",
       "      <th>Age</th>\n",
       "      <th>Height</th>\n",
       "      <th>Weight</th>\n",
       "      <th>Team</th>\n",
       "      <th>NOC</th>\n",
       "      <th>Games</th>\n",
       "      <th>Year</th>\n",
       "      <th>Season</th>\n",
       "      <th>City</th>\n",
       "      <th>Sport</th>\n",
       "      <th>Event</th>\n",
       "      <th>Medal</th>\n",
       "    </tr>\n",
       "  </thead>\n",
       "  <tbody>\n",
       "    <tr>\n",
       "      <th>33979</th>\n",
       "      <td>17505</td>\n",
       "      <td>Roberto Calovi</td>\n",
       "      <td>M</td>\n",
       "      <td>Senior</td>\n",
       "      <td>184.0</td>\n",
       "      <td>75.0</td>\n",
       "      <td>Italy</td>\n",
       "      <td>ITA</td>\n",
       "      <td>1984 Summer</td>\n",
       "      <td>1984</td>\n",
       "      <td>Summer</td>\n",
       "      <td>Los Angeles</td>\n",
       "      <td>Cycling</td>\n",
       "      <td>Cycling Men's Individual Pursuit, 4,000 metres</td>\n",
       "      <td>NaN</td>\n",
       "    </tr>\n",
       "    <tr>\n",
       "      <th>163258</th>\n",
       "      <td>81956</td>\n",
       "      <td>Jos Manuel Moreno Perin</td>\n",
       "      <td>M</td>\n",
       "      <td>Senior</td>\n",
       "      <td>180.0</td>\n",
       "      <td>79.0</td>\n",
       "      <td>Spain</td>\n",
       "      <td>ESP</td>\n",
       "      <td>1992 Summer</td>\n",
       "      <td>1992</td>\n",
       "      <td>Summer</td>\n",
       "      <td>Barcelona</td>\n",
       "      <td>Cycling</td>\n",
       "      <td>Cycling Men's Sprint</td>\n",
       "      <td>NaN</td>\n",
       "    </tr>\n",
       "    <tr>\n",
       "      <th>268695</th>\n",
       "      <td>134426</td>\n",
       "      <td>Zhang Bin</td>\n",
       "      <td>M</td>\n",
       "      <td>Veterano</td>\n",
       "      <td>181.0</td>\n",
       "      <td>73.0</td>\n",
       "      <td>China</td>\n",
       "      <td>CHN</td>\n",
       "      <td>2008 Summer</td>\n",
       "      <td>2008</td>\n",
       "      <td>Summer</td>\n",
       "      <td>Beijing</td>\n",
       "      <td>Equestrianism</td>\n",
       "      <td>Equestrianism Mixed Jumping, Individual</td>\n",
       "      <td>NaN</td>\n",
       "    </tr>\n",
       "    <tr>\n",
       "      <th>149992</th>\n",
       "      <td>75222</td>\n",
       "      <td>Marsel Markulin</td>\n",
       "      <td>M</td>\n",
       "      <td>Senior</td>\n",
       "      <td>168.0</td>\n",
       "      <td>65.0</td>\n",
       "      <td>Yugoslavia</td>\n",
       "      <td>YUG</td>\n",
       "      <td>1960 Summer</td>\n",
       "      <td>1960</td>\n",
       "      <td>Summer</td>\n",
       "      <td>Roma</td>\n",
       "      <td>Gymnastics</td>\n",
       "      <td>Gymnastics Men's Individual All-Around</td>\n",
       "      <td>NaN</td>\n",
       "    </tr>\n",
       "    <tr>\n",
       "      <th>160950</th>\n",
       "      <td>80769</td>\n",
       "      <td>Shizuo Mochizuki</td>\n",
       "      <td>M</td>\n",
       "      <td>Senior</td>\n",
       "      <td>NaN</td>\n",
       "      <td>NaN</td>\n",
       "      <td>Japan</td>\n",
       "      <td>JPN</td>\n",
       "      <td>1932 Summer</td>\n",
       "      <td>1932</td>\n",
       "      <td>Summer</td>\n",
       "      <td>Los Angeles</td>\n",
       "      <td>Athletics</td>\n",
       "      <td>Athletics Men's Pole Vault</td>\n",
       "      <td>NaN</td>\n",
       "    </tr>\n",
       "  </tbody>\n",
       "</table>\n",
       "</div>"
      ],
      "text/plain": [
       "            ID                     Name Sex       Age  Height  Weight  \\\n",
       "33979    17505           Roberto Calovi   M    Senior   184.0    75.0   \n",
       "163258   81956  Jos Manuel Moreno Perin   M    Senior   180.0    79.0   \n",
       "268695  134426                Zhang Bin   M  Veterano   181.0    73.0   \n",
       "149992   75222          Marsel Markulin   M    Senior   168.0    65.0   \n",
       "160950   80769         Shizuo Mochizuki   M    Senior     NaN     NaN   \n",
       "\n",
       "              Team  NOC        Games  Year  Season         City  \\\n",
       "33979        Italy  ITA  1984 Summer  1984  Summer  Los Angeles   \n",
       "163258       Spain  ESP  1992 Summer  1992  Summer    Barcelona   \n",
       "268695       China  CHN  2008 Summer  2008  Summer      Beijing   \n",
       "149992  Yugoslavia  YUG  1960 Summer  1960  Summer         Roma   \n",
       "160950       Japan  JPN  1932 Summer  1932  Summer  Los Angeles   \n",
       "\n",
       "                Sport                                           Event Medal  \n",
       "33979         Cycling  Cycling Men's Individual Pursuit, 4,000 metres   NaN  \n",
       "163258        Cycling                            Cycling Men's Sprint   NaN  \n",
       "268695  Equestrianism         Equestrianism Mixed Jumping, Individual   NaN  \n",
       "149992     Gymnastics          Gymnastics Men's Individual All-Around   NaN  \n",
       "160950      Athletics                      Athletics Men's Pole Vault   NaN  "
      ]
     },
     "execution_count": 109,
     "metadata": {},
     "output_type": "execute_result"
    }
   ],
   "source": [
    "data.sample(5)"
   ]
  },
  {
   "cell_type": "code",
   "execution_count": 115,
   "id": "9cce4dfc",
   "metadata": {},
   "outputs": [
    {
     "name": "stdout",
     "output_type": "stream",
     "text": [
      "[127. 128. 130. 131. 132. 133. 135. 136. 137. 138. 139. 140. 141. 142.\n",
      " 143. 144. 145. 146. 147. 148. 149. 150. 151. 152. 153. 154. 155. 156.\n",
      " 157. 158. 159. 160. 161. 162. 163. 164. 165. 166. 167. 168. 169. 170.\n",
      " 171. 172. 173. 174. 175. 176. 177. 178. 179. 180. 181. 182. 183. 184.\n",
      " 185. 186. 187. 188. 189. 190. 191. 192. 193. 194. 195. 196. 197. 198.\n",
      " 199. 200. 201. 202. 203. 204. 205. 206. 207. 208. 209. 210. 211. 212.\n",
      " 213. 214. 215. 216. 217. 218. 219. 220. 221. 223. 226.  nan]\n"
     ]
    },
    {
     "data": {
      "image/png": "[encoded data removed]",
      "text/plain": [
       "<Figure size 640x480 with 1 Axes>"
      ]
     },
     "metadata": {},
     "output_type": "display_data"
    }
   ],
   "source": [
    "data_test.hist(column='Height')\n",
    "pesos = data.Height.unique()\n",
    "pesos.sort()\n",
    "print(pesos)"
   ]
  },
  {
   "cell_type": "code",
   "execution_count": null,
   "id": "3b1baa8a",
   "metadata": {},
   "outputs": [],
   "source": [
    "data_test.hist(column='Weight')"
   ]
  },
  {
   "cell_type": "code",
   "execution_count": null,
   "id": "d01aea42",
   "metadata": {},
   "outputs": [],
   "source": [
    "data."
   ]
  },
  {
   "cell_type": "code",
   "execution_count": null,
   "id": "dc7421ca",
   "metadata": {},
   "outputs": [],
   "source": [
    "from sklearn.model_selection import train_test_split\n",
    "from sklearn import datasets\n",
    "\n",
    "train_set, test_set = train_test_split(data, test_size=0.2, random_state=42)\n",
    "train_set\n",
    "test_set\n",
    "print(train_set.shape)\n",
    "print(test_set.shape)"
   ]
  }
 ],
 "metadata": {
  "kernelspec": {
   "display_name": "Python 3",
   "language": "python",
   "name": "python3"
  },
  "language_info": {
   "codemirror_mode": {
    "name": "ipython",
    "version": 3
   },
   "file_extension": ".py",
   "mimetype": "text/x-python",
   "name": "python",
   "nbconvert_exporter": "python",
   "pygments_lexer": "ipython3",
   "version": "3.11.2"
  }
 },
 "nbformat": 4,
 "nbformat_minor": 5
}
